{
 "cells": [
  {
   "cell_type": "markdown",
   "metadata": {
    "id": "eNOt6LCwTxg0"
   },
   "source": [
    "# Random forest classification tutorial\n",
    "\n",
    "Classification Task: Predicting Soil Behavior (Binary Classification)\n",
    "\n",
    "The task is a binary classification problem, where the goal is to predict whether a soil sample will exhibit contracting or dilative behavior based on the `state` parameter. If `state >= -0.05`, soil tends to be contractive, and if `state < -0.05`, soil tends to be dilative. We first train the model using the training examples (i.e., feature-label). Then we test the model on unseen data to assess whether the model correctly classify the soil behavior (contractive or dilative)"
   ]
  },
  {
   "cell_type": "markdown",
   "metadata": {
    "id": "OXPIkcVlKIDu"
   },
   "source": [
    "## Data loading"
   ]
  },
  {
   "cell_type": "markdown",
   "metadata": {
    "id": "FDsX9H_FKI3a"
   },
   "source": [
    "Load the dataset and display its first few rows and information.\n",
    "\n"
   ]
  },
  {
   "cell_type": "code",
   "execution_count": null,
   "metadata": {
    "colab": {
     "base_uri": "https://localhost:8080/",
     "height": 518
    },
    "id": "65boRe93KJHP",
    "outputId": "cfd8ca64-1e0f-40ac-d599-668523d66036"
   },
   "outputs": [],
   "source": [
    "import pandas as pd\n",
    "\n",
    "try:\n",
    "    df = pd.read_csv('state_prediction.csv')\n",
    "    display(df.head())\n",
    "    display(df.info())\n",
    "except FileNotFoundError:\n",
    "    print(\"Error: 'state_prediction.csv' not found.\")\n",
    "    df = None"
   ]
  },
  {
   "cell_type": "markdown",
   "metadata": {
    "id": "pp9r0G6ZKNDo"
   },
   "source": [
    "## Data exploration"
   ]
  },
  {
   "cell_type": "markdown",
   "metadata": {
    "id": "eTsvJGKMKN4v"
   },
   "source": [
    "Explore the dataset by visualizing relationships between features and the target variable 'state' using pair plots, correlation matrix, heatmap, and distributions of features.\n",
    "\n"
   ]
  },
  {
   "cell_type": "code",
   "execution_count": null,
   "metadata": {
    "colab": {
     "base_uri": "https://localhost:8080/",
     "height": 1000
    },
    "id": "132YTsFhKOIi",
    "outputId": "2d3b7c31-f577-4531-d509-d50848235907"
   },
   "outputs": [],
   "source": [
    "import seaborn as sns\n",
    "import matplotlib.pyplot as plt\n",
    "\n",
    "# 1. Determine the shape of the DataFrame\n",
    "print(f\"Shape of the DataFrame: {df.shape}\")\n",
    "\n",
    "# 2. Generate a pair plot\n",
    "sns.pairplot(df, hue='state')\n",
    "plt.show()\n",
    "\n",
    "# 3 & 4. Calculate and display the correlation matrix as a heatmap\n",
    "correlation_matrix = df.corr()\n",
    "plt.figure(figsize=(12, 10))\n",
    "sns.heatmap(correlation_matrix, annot=True, cmap='coolwarm', fmt=\".2f\")\n",
    "plt.title('Correlation Matrix Heatmap')\n",
    "plt.show()\n",
    "\n",
    "# 5. Describe the distributions of each feature\n",
    "df.hist(figsize=(16, 12), bins=20)\n",
    "plt.suptitle(\"Distribution of Features\", fontsize=16)\n",
    "plt.show()\n",
    "\n",
    "# Analyze the correlation between features and the target variable 'state'\n",
    "print(\"Correlation with 'state':\")\n",
    "print(correlation_matrix['state'].sort_values(ascending=False))"
   ]
  },
  {
   "cell_type": "markdown",
   "metadata": {
    "id": "P9m5QggMLise"
   },
   "source": [
    "## Data preparation\n"
   ]
  },
  {
   "cell_type": "markdown",
   "metadata": {
    "id": "enxtOSEKLjgw"
   },
   "source": [
    "Remove the \"gray zone\" data points where 'state' is 0 and create a new binary target variable 'binary_state' based on the provided conditions. Then, drop the original 'state' column and verify the changes.\n",
    "\n"
   ]
  },
  {
   "cell_type": "code",
   "execution_count": null,
   "metadata": {
    "colab": {
     "base_uri": "https://localhost:8080/",
     "height": 471
    },
    "id": "jkO8CYfZLloN",
    "outputId": "4a6705e9-b632-4c2d-f992-52e2de517a7b"
   },
   "outputs": [],
   "source": [
    "# Remove rows where 'state' is 0\n",
    "df = df[df['state'] != 0]\n",
    "\n",
    "# Create the 'binary_state' column using .loc for correct assignment\n",
    "df['binary_state'] = 0\n",
    "df.loc[df['state'] >= 0.05, 'binary_state'] = 1\n",
    "\n",
    "# Drop the original 'state' column\n",
    "df = df.drop('state', axis=1)\n",
    "\n",
    "# Verify the changes\n",
    "display(df.head())\n",
    "display(df['binary_state'].value_counts())"
   ]
  },
  {
   "cell_type": "markdown",
   "metadata": {
    "id": "7pnXGI1dLq-6"
   },
   "source": [
    "## Data splitting"
   ]
  },
  {
   "cell_type": "markdown",
   "metadata": {
    "id": "VK11BxoZLrw0"
   },
   "source": [
    "Split the data into training, validation, and testing sets using train_test_split.\n",
    "\n"
   ]
  },
  {
   "cell_type": "code",
   "execution_count": null,
   "metadata": {
    "id": "3AP6zCdGLsAm"
   },
   "outputs": [],
   "source": [
    "from sklearn.model_selection import train_test_split\n",
    "\n",
    "# Define features (X) and target variable (y)\n",
    "X = df.drop('binary_state', axis=1)\n",
    "y = df['binary_state']\n",
    "\n",
    "# First split: combined training/validation and testing sets\n",
    "X_train_val, X_test, y_train_val, y_test = train_test_split(\n",
    "    X, y, test_size=0.15, stratify=y, random_state=42\n",
    ")\n",
    "\n",
    "# Second split: training and validation sets\n",
    "X_train, X_val, y_train, y_val = train_test_split(\n",
    "    X_train_val,\n",
    "    y_train_val,\n",
    "    test_size=0.15 / (0.15 + 0.7),  # Adjust test_size for the desired 70/15/15 split\n",
    "    stratify=y_train_val,\n",
    "    random_state=42,\n",
    ")"
   ]
  },
  {
   "cell_type": "markdown",
   "metadata": {
    "id": "KDFdK7tCLzRm"
   },
   "source": [
    "## Model training"
   ]
  },
  {
   "cell_type": "markdown",
   "metadata": {
    "id": "Iu04Lk38L0Fe"
   },
   "source": [
    "Train a random forest model using the training data.\n",
    "\n"
   ]
  },
  {
   "cell_type": "code",
   "execution_count": null,
   "metadata": {
    "colab": {
     "base_uri": "https://localhost:8080/",
     "height": 80
    },
    "id": "IebmGMaLL0VW",
    "outputId": "ea9f6aa0-d5b7-434d-e865-f70c3b7d6dca"
   },
   "outputs": [],
   "source": [
    "from sklearn.ensemble import RandomForestClassifier\n",
    "\n",
    "# Initialize the Random Forest model\n",
    "# your code here:\n",
    "\n",
    "# Train the model\n",
    "# your code here:\n"
   ]
  },
  {
   "cell_type": "markdown",
   "metadata": {
    "id": "dVDI2ItjL5NJ"
   },
   "source": [
    "## Model optimization\n",
    "\n",
    "Optimize the random forest model using GridSearchCV with k-fold cross-validation.\n"
   ]
  },
  {
   "cell_type": "code",
   "execution_count": null,
   "metadata": {
    "colab": {
     "base_uri": "https://localhost:8080/"
    },
    "id": "XVWHtLTlL60J",
    "outputId": "13313344-cc4d-4ccc-f2a9-c0f4b904ddcf"
   },
   "outputs": [],
   "source": [
    "from sklearn.model_selection import GridSearchCV\n",
    "from sklearn.ensemble import RandomForestClassifier\n",
    "\n",
    "# Define the parameter grid for Random Forest\n",
    "# your code here:\n",
    "\n",
    "# Create a Random Forest model\n",
    "# your code here:\n",
    "\n",
    "# Create the GridSearchCV object\n",
    "# your code here:\n",
    "\n",
    "# Fit the GridSearchCV object to the training data\n",
    "# your code here:\n",
    "\n",
    "# Print the best hyperparameters\n",
    "# your code here:\n",
    "\n",
    "# Get the best estimator\n",
    "# your code here:\n"
   ]
  },
  {
   "cell_type": "markdown",
   "metadata": {
    "id": "pO5Cjl7WNFO-"
   },
   "source": [
    "## Model evaluation\n"
   ]
  },
  {
   "cell_type": "markdown",
   "metadata": {
    "id": "Zw0DTGtvNGBU"
   },
   "source": [
    "Evaluate the best model on the test set, generate a classification report, confusion matrix, ROC curve, and AUC.\n",
    "\n"
   ]
  },
  {
   "cell_type": "code",
   "execution_count": null,
   "metadata": {
    "colab": {
     "base_uri": "https://localhost:8080/",
     "height": 1000
    },
    "id": "xcaOaFklNGRA",
    "outputId": "faa9b44b-3438-4ae4-f8cb-e9e58414ae09"
   },
   "outputs": [],
   "source": [
    "from sklearn.metrics import classification_report, confusion_matrix, roc_curve, auc\n",
    "import matplotlib.pyplot as plt\n",
    "import seaborn as sns\n",
    "\n",
    "# Predict on the test set\n",
    "# your code here:\n",
    "\n",
    "# Generate the classification report\n",
    "print(classification_report(y_test, y_pred))\n",
    "\n",
    "# Compute and plot the confusion matrix\n",
    "cm = confusion_matrix(y_test, y_pred)\n",
    "plt.figure(figsize=(6, 6))\n",
    "sns.heatmap(cm, annot=True, fmt='d', cmap='Blues', cbar=False,\n",
    "            xticklabels=['Predicted 0', 'Predicted 1'],\n",
    "            yticklabels=['Actual 0', 'Actual 1'])\n",
    "plt.title('Confusion Matrix')\n",
    "plt.xlabel('Predicted')\n",
    "plt.ylabel('Actual')\n",
    "plt.show()\n",
    "\n",
    "# Calculate the ROC curve and AUC\n",
    "# your code here:\n",
    "\n",
    "fpr, tpr, thresholds = roc_curve(y_test, y_prob)\n",
    "roc_auc = auc(fpr, tpr)\n",
    "\n",
    "# Print the AUC value\n",
    "print(f\"AUC: {roc_auc}\")\n",
    "\n",
    "# Plot the ROC curve\n",
    "plt.figure(figsize=(6, 6))\n",
    "plt.plot(fpr, tpr, color='darkorange', lw=2, label=f'ROC curve (area = {roc_auc:.2f})')\n",
    "plt.plot([0, 1], [0, 1], color='navy', lw=2, linestyle='--')\n",
    "plt.xlim([0.0, 1.0])\n",
    "plt.ylim([0.0, 1.05])\n",
    "plt.xlabel('False Positive Rate')\n",
    "plt.ylabel('True Positive Rate')\n",
    "plt.title('Receiver Operating Characteristic (ROC) Curve')\n",
    "plt.legend(loc='lower right')\n",
    "plt.show()"
   ]
  },
  {
   "cell_type": "markdown",
   "metadata": {
    "id": "MoYzxdL-TXyW"
   },
   "source": [
    "## Model interpretation"
   ]
  },
  {
   "cell_type": "code",
   "execution_count": null,
   "metadata": {
    "colab": {
     "base_uri": "https://localhost:8080/",
     "height": 1000
    },
    "id": "_ZwLH5_tTSEB",
    "outputId": "12e5b3d6-d422-416f-ffd3-920be781de69"
   },
   "outputs": [],
   "source": [
    "from sklearn.tree import export_graphviz\n",
    "import graphviz\n",
    "from IPython.display import display\n",
    "\n",
    "# Assuming 'best_rf_model' is your trained Random Forest model\n",
    "tree = best_rf_model.estimators_[0]  # Select the first tree in the forest\n",
    "\n",
    "dot_data = export_graphviz(tree,\n",
    "                            out_file=None,\n",
    "                            feature_names=X_train.columns,  # Use feature names from your data\n",
    "                            class_names=['0', '1'],  # Use class names if applicable\n",
    "                            filled=True,\n",
    "                            rounded=True,\n",
    "                            special_characters=True)\n",
    "\n",
    "graph = graphviz.Source(dot_data)\n",
    "display(graph)\n"
   ]
  }
 ],
 "metadata": {
  "colab": {
   "provenance": []
  },
  "kernelspec": {
   "display_name": "Python 3",
   "name": "python3"
  },
  "language_info": {
   "name": "python"
  }
 },
 "nbformat": 4,
 "nbformat_minor": 0
}
