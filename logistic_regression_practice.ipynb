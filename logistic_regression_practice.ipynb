{
 "cells": [
  {
   "cell_type": "markdown",
   "metadata": {
    "id": "HvpNYUXIKHzy"
   },
   "source": [
    "# Logistic regression tutorial\n",
    "\n",
    "Classification Task: Predicting Soil Behavior (Binary Classification)\n",
    "\n",
    "The task is a binary classification problem, where the goal is to predict whether a soil sample will exhibit contracting or dilative behavior based on the `state` parameter. If `state >= -0.05`, soil tends to be contractive, and if `state < -0.05`, soil tends to be dilative. We first train the model using the training examples (i.e., feature-label). Then we test the model on unseen data to assess whether the model correctly classify the soil behavior (contractive or dilative)"
   ]
  },
  {
   "cell_type": "markdown",
   "metadata": {
    "id": "OXPIkcVlKIDu"
   },
   "source": [
    "## Data loading\n"
   ]
  },
  {
   "cell_type": "markdown",
   "metadata": {
    "id": "FDsX9H_FKI3a"
   },
   "source": [
    "Load the dataset and display its first few rows and information.\n",
    "\n"
   ]
  },
  {
   "cell_type": "code",
   "execution_count": null,
   "metadata": {
    "colab": {
     "base_uri": "https://localhost:8080/",
     "height": 518
    },
    "id": "65boRe93KJHP",
    "outputId": "ef712425-4412-41d6-e3a5-a1759a480c1f"
   },
   "outputs": [],
   "source": [
    "import pandas as pd\n"
   ]
  },
  {
   "cell_type": "markdown",
   "metadata": {
    "id": "pp9r0G6ZKNDo"
   },
   "source": [
    "## Data exploration"
   ]
  },
  {
   "cell_type": "markdown",
   "metadata": {
    "id": "eTsvJGKMKN4v"
   },
   "source": [
    "Explore the dataset by visualizing relationships between features and the target variable 'state' using pair plots, correlation matrix, heatmap, and distributions of features.\n",
    "\n"
   ]
  },
  {
   "cell_type": "code",
   "execution_count": null,
   "metadata": {
    "colab": {
     "base_uri": "https://localhost:8080/"
    },
    "id": "132YTsFhKOIi",
    "outputId": "af0c72d0-5374-4499-bd5e-3ac049a81b47"
   },
   "outputs": [],
   "source": [
    "import seaborn as sns\n",
    "import matplotlib.pyplot as plt\n",
    "\n",
    "# Determine the shape of the DataFrame\n"
   ]
  },
  {
   "cell_type": "code",
   "execution_count": null,
   "metadata": {
    "colab": {
     "base_uri": "https://localhost:8080/",
     "height": 1000
    },
    "id": "AOB8ydVGTJ_I",
    "outputId": "dba51268-0c50-420e-9df9-46ccf8aa2415"
   },
   "outputs": [],
   "source": [
    "# Generate a pair plot\n"
   ]
  },
  {
   "cell_type": "code",
   "execution_count": null,
   "metadata": {
    "colab": {
     "base_uri": "https://localhost:8080/",
     "height": 853
    },
    "id": "EDog5M1zTM0h",
    "outputId": "95e63cce-3597-443f-8728-38b649790a2f"
   },
   "outputs": [],
   "source": [
    "# Calculate and display the correlation matrix as a heatmap\n"
   ]
  },
  {
   "cell_type": "code",
   "execution_count": null,
   "metadata": {
    "colab": {
     "base_uri": "https://localhost:8080/",
     "height": 1000
    },
    "id": "2UEwUbu9TOZo",
    "outputId": "e7f7d631-be68-4853-bdfe-777de4f83fd4"
   },
   "outputs": [],
   "source": [
    "# Describe the distributions of each feature\n"
   ]
  },
  {
   "cell_type": "code",
   "execution_count": null,
   "metadata": {
    "colab": {
     "base_uri": "https://localhost:8080/"
    },
    "id": "VvEml9g9TPL5",
    "outputId": "1309cdd4-ce26-4a04-f28f-1a41e29ec810"
   },
   "outputs": [],
   "source": [
    "# Analyze the correlation between features and the target variable 'state'\n"
   ]
  },
  {
   "cell_type": "markdown",
   "metadata": {
    "id": "P9m5QggMLise"
   },
   "source": [
    "## Data preparation\n"
   ]
  },
  {
   "cell_type": "markdown",
   "metadata": {
    "id": "enxtOSEKLjgw"
   },
   "source": [
    "Remove the \"gray zone\" data points where 'state' is 0 and create a new binary target variable 'binary_state' based on the provided conditions. Then, drop the original 'state' column and verify the changes.\n",
    "\n"
   ]
  },
  {
   "cell_type": "code",
   "execution_count": null,
   "metadata": {
    "colab": {
     "base_uri": "https://localhost:8080/",
     "height": 471
    },
    "id": "jkO8CYfZLloN",
    "outputId": "8a9c6ab0-a69a-4f8f-f1ad-04617068ee97"
   },
   "outputs": [],
   "source": [
    "# Remove rows where 'state' is 0\n",
    "\n",
    "\n",
    "# Create the 'binary_state' column using .loc for correct assignment\n",
    "\n",
    "# Drop the original 'state' column\n",
    "\n",
    "# Verify the changes\n"
   ]
  },
  {
   "cell_type": "markdown",
   "metadata": {
    "id": "7pnXGI1dLq-6"
   },
   "source": [
    "## Data splitting\n",
    "\n",
    "Split the prepared data into training, testing, and validation sets.\n"
   ]
  },
  {
   "cell_type": "code",
   "execution_count": null,
   "metadata": {
    "id": "3AP6zCdGLsAm"
   },
   "outputs": [],
   "source": [
    "from sklearn.model_selection import train_test_split\n",
    "\n",
    "# Define features (X) and target variable (y)\n",
    "\n",
    "# First split: combined training/validation and testing sets\n",
    "\n",
    "# Second split: training and validation sets\n"
   ]
  },
  {
   "cell_type": "markdown",
   "metadata": {
    "id": "KDFdK7tCLzRm"
   },
   "source": [
    "## Model training\n",
    "\n",
    "Train a logistic regression model using scikit-learn.\n"
   ]
  },
  {
   "cell_type": "code",
   "execution_count": null,
   "metadata": {
    "colab": {
     "base_uri": "https://localhost:8080/",
     "height": 80
    },
    "id": "IebmGMaLL0VW",
    "outputId": "ef11f8de-2ec3-460e-e0ea-2fcf1149901b"
   },
   "outputs": [],
   "source": [
    "from sklearn.linear_model import LogisticRegression\n",
    "\n",
    "# Initialize the logistic regression model\n",
    "\n",
    "# Train the model\n"
   ]
  },
  {
   "cell_type": "markdown",
   "metadata": {
    "id": "dVDI2ItjL5NJ"
   },
   "source": [
    "## Model optimization\n",
    "\n",
    "Optimize the logistic regression model using GridSearchCV with k-fold cross-validation.\n"
   ]
  },
  {
   "cell_type": "code",
   "execution_count": null,
   "metadata": {
    "colab": {
     "base_uri": "https://localhost:8080/"
    },
    "id": "XVWHtLTlL60J",
    "outputId": "3691ee7d-2a2a-425f-a145-4cb309d6f684"
   },
   "outputs": [],
   "source": [
    "from sklearn.model_selection import GridSearchCV\n",
    "from sklearn.linear_model import LogisticRegression\n",
    "\n",
    "# Define the parameter grid\n",
    "\n",
    "# Create a logistic regression model\n",
    "\n",
    "# Create the GridSearchCV object\n",
    "\n",
    "# Fit the GridSearchCV object to the training data\n",
    "\n",
    "# Print the best hyperparameters\n",
    "\n",
    "# Get the best estimator\n"
   ]
  },
  {
   "cell_type": "markdown",
   "metadata": {
    "id": "pO5Cjl7WNFO-"
   },
   "source": [
    "## Model evaluation"
   ]
  },
  {
   "cell_type": "markdown",
   "metadata": {
    "id": "Zw0DTGtvNGBU"
   },
   "source": [
    "Evaluate the best model on the test set, generate a classification report, confusion matrix, ROC curve, and AUC.\n",
    "\n"
   ]
  },
  {
   "cell_type": "code",
   "execution_count": null,
   "metadata": {
    "colab": {
     "base_uri": "https://localhost:8080/"
    },
    "id": "xcaOaFklNGRA",
    "outputId": "5740a41d-4bd5-4434-9998-4643e9a6d7a4"
   },
   "outputs": [],
   "source": [
    "from sklearn.metrics import classification_report, confusion_matrix, roc_curve, auc\n",
    "import matplotlib.pyplot as plt\n",
    "import seaborn as sns\n",
    "\n",
    "# Predict on the test set\n",
    "\n",
    "# Generate the classification report\n"
   ]
  },
  {
   "cell_type": "code",
   "execution_count": null,
   "metadata": {
    "colab": {
     "base_uri": "https://localhost:8080/",
     "height": 564
    },
    "id": "nx6iyn1mTcdh",
    "outputId": "850efdc1-b40d-405a-ee85-7ed23f16c605"
   },
   "outputs": [],
   "source": [
    "# Compute and plot the confusion matrix\n",
    "cm = confusion_matrix(y_test, y_pred)\n",
    "plt.figure(figsize=(6, 6))\n",
    "sns.heatmap(cm, annot=True, fmt='d', cmap='Blues', cbar=False,\n",
    "            xticklabels=['Predicted 0', 'Predicted 1'],\n",
    "            yticklabels=['Actual 0', 'Actual 1'])\n",
    "plt.title('Confusion Matrix')\n",
    "plt.xlabel('Predicted')\n",
    "plt.ylabel('Actual')\n",
    "plt.show()"
   ]
  },
  {
   "cell_type": "code",
   "execution_count": null,
   "metadata": {
    "colab": {
     "base_uri": "https://localhost:8080/"
    },
    "id": "AgnH67ztTfAh",
    "outputId": "2625153f-454b-4391-9e75-34d376facb45"
   },
   "outputs": [],
   "source": [
    "# Calculate the ROC curve and AUC\n",
    "y_prob = best_logreg_model.predict_proba(X_test)[:, 1]\n",
    "fpr, tpr, thresholds = roc_curve(y_test, y_prob)\n",
    "roc_auc = auc(fpr, tpr)\n",
    "\n",
    "# Print the AUC value\n",
    "print(f\"AUC: {roc_auc}\")"
   ]
  },
  {
   "cell_type": "code",
   "execution_count": null,
   "metadata": {
    "colab": {
     "base_uri": "https://localhost:8080/",
     "height": 564
    },
    "id": "xPOfm9BXTja1",
    "outputId": "af39df6b-1635-4780-c855-dc2004fac954"
   },
   "outputs": [],
   "source": [
    "# Plot the ROC curve\n",
    "plt.figure(figsize=(6, 6))\n",
    "plt.plot(fpr, tpr, color='darkorange', lw=2, label=f'ROC curve (area = {roc_auc:.2f})')\n",
    "plt.plot([0, 1], [0, 1], color='navy', lw=2, linestyle='--')\n",
    "plt.xlim([0.0, 1.0])\n",
    "plt.ylim([0.0, 1.05])\n",
    "plt.xlabel('False Positive Rate')\n",
    "plt.ylabel('True Positive Rate')\n",
    "plt.title('Receiver Operating Characteristic (ROC) Curve')\n",
    "plt.legend(loc='lower right')\n",
    "plt.show()"
   ]
  }
 ],
 "metadata": {
  "colab": {
   "provenance": []
  },
  "kernelspec": {
   "display_name": "Python 3",
   "name": "python3"
  },
  "language_info": {
   "name": "python"
  }
 },
 "nbformat": 4,
 "nbformat_minor": 0
}
